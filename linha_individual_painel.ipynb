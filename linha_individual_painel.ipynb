{
  "nbformat": 4,
  "nbformat_minor": 0,
  "metadata": {
    "colab": {
      "name": "linha_individual_painel.ipynb",
      "provenance": [],
      "authorship_tag": "ABX9TyOEQouRVpJjDVsJ3NkFTUdQ",
      "include_colab_link": true
    },
    "kernelspec": {
      "name": "python3",
      "display_name": "Python 3"
    }
  },
  "cells": [
    {
      "cell_type": "markdown",
      "metadata": {
        "id": "view-in-github",
        "colab_type": "text"
      },
      "source": [
        "<a href=\"https://colab.research.google.com/github/ludmillaconti/data-analytics/blob/main/linha_individual_painel.ipynb\" target=\"_parent\"><img src=\"https://colab.research.google.com/assets/colab-badge.svg\" alt=\"Open In Colab\"/></a>"
      ]
    },
    {
      "cell_type": "code",
      "metadata": {
        "id": "ZgdzBEr-3US1"
      },
      "source": [
        "import numpy as np\n",
        "import pandas as pd\n",
        "import matplotlib.pyplot as plt\n",
        "import matplotlib as mpl\n",
        "import seaborn as sns\n",
        "\n",
        "\n",
        "#mpl.rcParams['font.size'] = 12\n",
        "#mpl.rcParams['legend.fontsize'] = 'large'\n",
        "#mpl.rcParams['figure.titlesize'] = 'medium'\n",
        "\n",
        "\n",
        "\n",
        "\n",
        "tabela_dados = pd.read_csv('/content/drive/MyDrive/Colab Notebooks/Gráficos para artigos/guara_17 (1).csv')\n",
        "tabela_dados = tabela_dados.rename(columns={'hour': 'date'})\n",
        "tabela_dados = pd.DataFrame(tabela_dados)\n",
        "\n",
        "#tabela_dados = tabela_dados.drop(['date', 'NO 17', 'NO 18', 'NO 19', 'NO 20', 'NO2 17', 'NO2 18', 'NO2 19', 'NO2 20'], axis=1)\n",
        "#tabela_dados = tabela_dados.drop(['date', 'NO2 17', 'NO2 18', 'NO2 19', 'NO2 20', axis=1)\n",
        "#tabela_dados = tabela_dados.drop(['date', 'O3 17', 'O3 18', 'O3 19', 'O3 20', axis=1)\n",
        "#tabela_dados = tabela_dados.drop('NO 17', axis=1)\n",
        "\n",
        "tabela_dados = tabela_dados.fillna(tabela_dados.mean())\n",
        "\n",
        "\n",
        "display(tabela_dados)"
      ],
      "execution_count": null,
      "outputs": []
    },
    {
      "cell_type": "code",
      "metadata": {
        "id": "Ghl2Re9TVz58"
      },
      "source": [
        "tabela_dados = tabela_dados.groupby('date').mean()\n",
        "# plot with various axes scales\n",
        "fig, axes = plt.subplots(2, 3, figsize=(18, 10))\n",
        "\n",
        "# linear\n",
        "plt.subplot(231)\n",
        "plt.xticks(rotation=90)\n",
        "p1 = plt.plot(tabela_dados['NO 17'], 'b')\n",
        "p2 = plt.plot(tabela_dados['NO 18'], 'orange')\n",
        "p3 = plt.plot(tabela_dados['NO 19'], 'g')\n",
        "p4 = plt.plot(tabela_dados['NO 20'], 'r')\n",
        "plt.title('Guaratinguetá - NO')\n",
        "\n",
        "plt.tight_layout()\n",
        "plt.legend(['NO 17', 'NO 18', 'NO 19', 'NO 20'])\n",
        "\n",
        "# log\n",
        "plt.subplot(232)\n",
        "plt.xticks(rotation=90)\n",
        "plt.plot( tabela_dados['NO2 17'], 'b')\n",
        "plt.plot( tabela_dados['NO2 18'], 'orange')\n",
        "plt.plot( tabela_dados['NO2 19'], 'g')\n",
        "plt.plot( tabela_dados['NO2 20'], 'r')\n",
        "plt.title('Guaratinguetá - NO2')\n",
        "\n",
        "plt.tight_layout()\n",
        "plt.legend(['NO2 17', 'NO2 18', 'NO2 19', 'NO2 20'])\n",
        "\n",
        "# symmetric log\n",
        "plt.subplot(233)\n",
        "plt.xticks(rotation=90)\n",
        "plt.plot( tabela_dados['O3 17'], 'b')\n",
        "plt.plot( tabela_dados['O3 18'], 'orange')\n",
        "plt.plot( tabela_dados['O3 19'], 'g')\n",
        "plt.plot( tabela_dados['O3 20'], 'r')\n",
        "plt.title('Guaratinguetá - O3')\n",
        "\n",
        "plt.tight_layout()\n",
        "plt.legend(['O3 17', 'O3 18', 'O3 19', 'O3 20'])\n",
        "\n",
        "plt.subplot(234)\n",
        "plt.xticks(rotation=90)\n",
        "p1 = plt.plot(tabela_dados['.NO 17'], 'b')\n",
        "p2 = plt.plot(tabela_dados['.NO 18'], 'orange')\n",
        "p3 = plt.plot(tabela_dados['.NO 19'], 'g')\n",
        "p4 = plt.plot(tabela_dados['.NO 20'], 'r')\n",
        "plt.title('São José dos Campos - NO')\n",
        "\n",
        "plt.tight_layout()\n",
        "plt.legend(['NO 17', 'NO 18', 'NO 19', 'NO 20'])\n",
        "\n",
        "plt.subplot(235)\n",
        "plt.xticks(rotation=90)\n",
        "p1 = plt.plot(tabela_dados['.NO2 17'], 'b')\n",
        "p2 = plt.plot(tabela_dados['.NO2 18'], 'orange')\n",
        "p3 = plt.plot(tabela_dados['.NO2 19'], 'g')\n",
        "p4 = plt.plot(tabela_dados['.NO2 20'], 'r')\n",
        "plt.title('São José dos Campos - NO2')\n",
        "\n",
        "plt.tight_layout()\n",
        "plt.legend(['NO2 17', 'NO2 18', 'NO2 19', 'NO2 20'])\n",
        "\n",
        "plt.subplot(236)\n",
        "plt.xticks(rotation=90)\n",
        "p1 = plt.plot(tabela_dados['.O3 17'], 'b')\n",
        "p2 = plt.plot(tabela_dados['O3 18.'], 'orange')\n",
        "p3 = plt.plot(tabela_dados['.O3 19'], 'g')\n",
        "p4 = plt.plot(tabela_dados['.O3 20'], 'r')\n",
        "plt.title('São José dos Campos - O3')\n",
        "\n",
        "plt.tight_layout()\n",
        "plt.legend(['O3 17', 'O3 18', 'O3 19', 'O3 20'])\n",
        "\n",
        "# Adjust the subplot layout, because the logit one may take more space\n",
        "# than usual, due to y-tick labels like \"1 - 10^{-3}\"\n",
        "#plt.subplots_adjust(top=0.92, bottom=0.08, left=0.10, right=0.95, hspace=0.25,\n",
        "       #             wspace=0.35)\n"
      ],
      "execution_count": null,
      "outputs": []
    },
    {
      "cell_type": "code",
      "metadata": {
        "id": "Bx0VXKH3V3ba"
      },
      "source": [
        "#tabela_dados = pd.DataFrame(tabela_dados)\n",
        "tabela_dados = tabela_dados.groupby('date').mean()\n",
        "#date = tabela_dados.pop('date')\n",
        "\n",
        "plot_cols = ['NO 17','NO 18','NO 19', 'NO 20']\n",
        "plot_features = tabela_dados[plot_cols]\n",
        "\n",
        "\n",
        "\n",
        "_ = plot_features.plot(subplots=False, figsize=(10, 8))\n"
      ],
      "execution_count": null,
      "outputs": []
    },
    {
      "cell_type": "code",
      "metadata": {
        "id": "VtgYJGo0V6MQ"
      },
      "source": [
        "tabela_dados = tabela_dados.groupby('date').mean()\n",
        "\n",
        "fig, ax = plt.subplots(1, figsize=(12,6))\n",
        "ax.set_title('Diurnal Profile of NO2 for São José dos Campos', fontsize=14)\n",
        "ax.set_ylabel('Gas Concentrations', fontsize=14, weight='bold')\n",
        "ax.set_xlabel('Time of Day', fontsize=14)\n",
        "plt.xticks(rotation=90)\n",
        "\n",
        "\n",
        "p1, = ax.plot(tabela_dados.index, tabela_dados['NO2 17'], 'g', linewidth=2.0)\n",
        "p2, = ax.plot(tabela_dados.index, tabela_dados['NO2 18'], 'b', linewidth=2.0)\n",
        "p3, = ax.plot(tabela_dados.index, tabela_dados['NO2 19'], 'r', linewidth=2.0)\n",
        "p4, = ax.plot(tabela_dados.index, tabela_dados['NO2 20'], 'c', linewidth=2.0)\n",
        "plt.tight_layout()\n",
        "plt.legend([p1, p2, p3, p4], ['NO2 17', 'NO2 18', 'NO2 19', 'NO2 20'])\n",
        "\n",
        "\n",
        "\n",
        "\n",
        "plt.show()"
      ],
      "execution_count": null,
      "outputs": []
    }
  ]
}